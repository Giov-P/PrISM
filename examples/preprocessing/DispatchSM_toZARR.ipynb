{
 "cells": [
  {
   "cell_type": "markdown",
   "metadata": {},
   "source": [
    "### 1. package imports"
   ]
  },
  {
   "cell_type": "code",
   "execution_count": 1,
   "metadata": {},
   "outputs": [],
   "source": [
    "from pathlib import Path\n",
    "import numpy as np \n",
    "import rasterio as rio\n",
    "import glob\n",
    "import pandas as pd\n",
    "import xarray as xr\n",
    "import geopandas as gpd\n",
    "from shapely.geometry import box,Polygon, Point\n",
    "import tqdm\n",
    "from tqdm.notebook import tqdm as ntqdm\n",
    "import matplotlib.pyplot as plt\n",
    "from multiprocessing import Pool\n",
    "import sys\n",
    "curr_dir = Path.cwd()\n",
    "sys.path.append(str(curr_dir.parent))\n",
    "#personal imports \n",
    "# from run_smap_urgell import list_all_input_files_in_series\n",
    "# from run_smap_urgell import SMAP_area_interest, process_SMAP\n",
    "# from run_smos_urgell import read_smos_DBL_file\n",
    "# from plot_utils import make_nice_hist\n"
   ]
  },
  {
   "cell_type": "markdown",
   "metadata": {},
   "source": [
    "### 2. specify folders and paths"
   ]
  },
  {
   "cell_type": "code",
   "execution_count": 17,
   "metadata": {},
   "outputs": [],
   "source": [
    "# INPUTS\n",
    "dispatch_sm = Path(\"/mnt/RAID2/ACCWA/h18v04/dispatch_hybrid_21r_update\") #### SMAP SM\n",
    "start_time = \"20230101\" # format = yearmonthday = yyyymmdd\n",
    "end_time = \"20230301\"\n",
    "shapefile_path = Path(\"/data/PhDGiovanni/5.IrriEst/DATA/INSITU/Urgell/urgell_shape.geojson\")\n",
    "shapefile = gpd.read_file(shapefile_path)\n",
    "### if you don't have a shapefile ready, then comment the previous 2 lines and uncomment the following lines and specify just the border extent \n",
    "# west = 0.6\n",
    "# south = 41.5\n",
    "# east = 1.1\n",
    "# north = 41.8\n",
    "# shapefile = gpd.GeoDataFrame(geometry=[box(west, south, east, north)], crs = \"EPSG:4326\")\n",
    "\n",
    "# OUTPUT\n",
    "outfold = Path(f\"/data/PhDGiovanni/5.IrriEst/DATA/SATELLITES/test\") # here a folder called \"Dispatch_SMAP21r_1km.zarr\" will be created"
   ]
  },
  {
   "cell_type": "markdown",
   "metadata": {},
   "source": [
    "### 3. run conversion"
   ]
  },
  {
   "cell_type": "code",
   "execution_count": 18,
   "metadata": {},
   "outputs": [
    {
     "name": "stderr",
     "output_type": "stream",
     "text": [
      "100%|██████████| 60/60 [00:27<00:00,  2.21it/s]\n",
      "/home/gpaolini/miniconda3/envs/AiDNN2/lib/python3.7/site-packages/ipykernel_launcher.py:21: DeprecationWarning: The default dtype for empty Series will be 'object' instead of 'float64' in a future version. Specify a dtype explicitly to silence this warning.\n"
     ]
    }
   ],
   "source": [
    "\n",
    "fold_satellite_sm  = outfold / 'Urgell_Dispatch_SMAP' #### SMAP\n",
    "fold_satellite_sm.mkdir(exist_ok=True, parents=True)\n",
    "file_sm_zarr = fold_satellite_sm / 'Dispatch_SMAP21r_1km.zarr' #### SMAP\n",
    "start_time = pd.Timestamp(start_time)\n",
    "end_time = pd.Timestamp(end_time)\n",
    "\n",
    "if not file_sm_zarr.exists(): # do not repeat if the file already exists\n",
    "    geometries = shapefile.dissolve().to_crs(4326) # dissolve all the polygons in the shapefile\n",
    "    xmin, ymin, xmax, ymax = geometries.total_bounds # get the boarder of the shapefile\n",
    "    soil_moisture_files = list(dispatch_sm.glob('*/SM*_P21r.asc')) # get all the files in the folder\n",
    "    # filter by dates\n",
    "    soil_moisture_files = [f for f in soil_moisture_files if start_time <= pd.Timestamp(f.parent.name) <= end_time]\n",
    "    soil_moisture_files.sort()\n",
    "    res = []\n",
    "    times = []\n",
    "    for file in tqdm.tqdm(soil_moisture_files, total = len(soil_moisture_files)):\n",
    "        ff  = xr.open_dataset(file,engine = 'rasterio',masked=True).rio.write_crs('EPSG:4326')\n",
    "        ff2 = ff.rio.clip([box(xmin, ymin, xmax, ymax)], from_disk=True, all_touched=True)\n",
    "        res.append(ff2.band_data.sel(band = 1))\n",
    "        times.append(pd.Timestamp(file.parent.name))\n",
    "    time = pd.Series(index = times)\n",
    "    time.index.name  = 'time'\n",
    "    all_xr_sm_smap = xr.concat(res, dim = time.index).to_dataset(name = 'dispatch_SM')\n",
    "    all_xr_sm_smap.to_zarr(file_sm_zarr)\n",
    "else:\n",
    "    all_xr_sm_smap = xr.open_zarr(file_sm_zarr)"
   ]
  },
  {
   "cell_type": "code",
   "execution_count": 19,
   "metadata": {},
   "outputs": [
    {
     "data": {
      "text/plain": [
       "[PosixPath('/mnt/RAID2/ACCWA/h18v04/dispatch_hybrid_21r_update/20230101/SM1km_h18v04_20230101_P21r.asc'),\n",
       " PosixPath('/mnt/RAID2/ACCWA/h18v04/dispatch_hybrid_21r_update/20230102/SM1km_h18v04_20230102_P21r.asc'),\n",
       " PosixPath('/mnt/RAID2/ACCWA/h18v04/dispatch_hybrid_21r_update/20230103/SM1km_h18v04_20230103_P21r.asc'),\n",
       " PosixPath('/mnt/RAID2/ACCWA/h18v04/dispatch_hybrid_21r_update/20230104/SM1km_h18v04_20230104_P21r.asc'),\n",
       " PosixPath('/mnt/RAID2/ACCWA/h18v04/dispatch_hybrid_21r_update/20230105/SM1km_h18v04_20230105_P21r.asc'),\n",
       " PosixPath('/mnt/RAID2/ACCWA/h18v04/dispatch_hybrid_21r_update/20230106/SM1km_h18v04_20230106_P21r.asc'),\n",
       " PosixPath('/mnt/RAID2/ACCWA/h18v04/dispatch_hybrid_21r_update/20230107/SM1km_h18v04_20230107_P21r.asc'),\n",
       " PosixPath('/mnt/RAID2/ACCWA/h18v04/dispatch_hybrid_21r_update/20230108/SM1km_h18v04_20230108_P21r.asc'),\n",
       " PosixPath('/mnt/RAID2/ACCWA/h18v04/dispatch_hybrid_21r_update/20230109/SM1km_h18v04_20230109_P21r.asc'),\n",
       " PosixPath('/mnt/RAID2/ACCWA/h18v04/dispatch_hybrid_21r_update/20230110/SM1km_h18v04_20230110_P21r.asc'),\n",
       " PosixPath('/mnt/RAID2/ACCWA/h18v04/dispatch_hybrid_21r_update/20230111/SM1km_h18v04_20230111_P21r.asc'),\n",
       " PosixPath('/mnt/RAID2/ACCWA/h18v04/dispatch_hybrid_21r_update/20230112/SM1km_h18v04_20230112_P21r.asc'),\n",
       " PosixPath('/mnt/RAID2/ACCWA/h18v04/dispatch_hybrid_21r_update/20230113/SM1km_h18v04_20230113_P21r.asc'),\n",
       " PosixPath('/mnt/RAID2/ACCWA/h18v04/dispatch_hybrid_21r_update/20230114/SM1km_h18v04_20230114_P21r.asc'),\n",
       " PosixPath('/mnt/RAID2/ACCWA/h18v04/dispatch_hybrid_21r_update/20230115/SM1km_h18v04_20230115_P21r.asc'),\n",
       " PosixPath('/mnt/RAID2/ACCWA/h18v04/dispatch_hybrid_21r_update/20230116/SM1km_h18v04_20230116_P21r.asc'),\n",
       " PosixPath('/mnt/RAID2/ACCWA/h18v04/dispatch_hybrid_21r_update/20230117/SM1km_h18v04_20230117_P21r.asc'),\n",
       " PosixPath('/mnt/RAID2/ACCWA/h18v04/dispatch_hybrid_21r_update/20230118/SM1km_h18v04_20230118_P21r.asc'),\n",
       " PosixPath('/mnt/RAID2/ACCWA/h18v04/dispatch_hybrid_21r_update/20230119/SM1km_h18v04_20230119_P21r.asc'),\n",
       " PosixPath('/mnt/RAID2/ACCWA/h18v04/dispatch_hybrid_21r_update/20230120/SM1km_h18v04_20230120_P21r.asc'),\n",
       " PosixPath('/mnt/RAID2/ACCWA/h18v04/dispatch_hybrid_21r_update/20230121/SM1km_h18v04_20230121_P21r.asc'),\n",
       " PosixPath('/mnt/RAID2/ACCWA/h18v04/dispatch_hybrid_21r_update/20230122/SM1km_h18v04_20230122_P21r.asc'),\n",
       " PosixPath('/mnt/RAID2/ACCWA/h18v04/dispatch_hybrid_21r_update/20230123/SM1km_h18v04_20230123_P21r.asc'),\n",
       " PosixPath('/mnt/RAID2/ACCWA/h18v04/dispatch_hybrid_21r_update/20230124/SM1km_h18v04_20230124_P21r.asc'),\n",
       " PosixPath('/mnt/RAID2/ACCWA/h18v04/dispatch_hybrid_21r_update/20230125/SM1km_h18v04_20230125_P21r.asc'),\n",
       " PosixPath('/mnt/RAID2/ACCWA/h18v04/dispatch_hybrid_21r_update/20230126/SM1km_h18v04_20230126_P21r.asc'),\n",
       " PosixPath('/mnt/RAID2/ACCWA/h18v04/dispatch_hybrid_21r_update/20230127/SM1km_h18v04_20230127_P21r.asc'),\n",
       " PosixPath('/mnt/RAID2/ACCWA/h18v04/dispatch_hybrid_21r_update/20230128/SM1km_h18v04_20230128_P21r.asc'),\n",
       " PosixPath('/mnt/RAID2/ACCWA/h18v04/dispatch_hybrid_21r_update/20230129/SM1km_h18v04_20230129_P21r.asc'),\n",
       " PosixPath('/mnt/RAID2/ACCWA/h18v04/dispatch_hybrid_21r_update/20230130/SM1km_h18v04_20230130_P21r.asc'),\n",
       " PosixPath('/mnt/RAID2/ACCWA/h18v04/dispatch_hybrid_21r_update/20230131/SM1km_h18v04_20230131_P21r.asc'),\n",
       " PosixPath('/mnt/RAID2/ACCWA/h18v04/dispatch_hybrid_21r_update/20230201/SM1km_h18v04_20230201_P21r.asc'),\n",
       " PosixPath('/mnt/RAID2/ACCWA/h18v04/dispatch_hybrid_21r_update/20230202/SM1km_h18v04_20230202_P21r.asc'),\n",
       " PosixPath('/mnt/RAID2/ACCWA/h18v04/dispatch_hybrid_21r_update/20230203/SM1km_h18v04_20230203_P21r.asc'),\n",
       " PosixPath('/mnt/RAID2/ACCWA/h18v04/dispatch_hybrid_21r_update/20230204/SM1km_h18v04_20230204_P21r.asc'),\n",
       " PosixPath('/mnt/RAID2/ACCWA/h18v04/dispatch_hybrid_21r_update/20230205/SM1km_h18v04_20230205_P21r.asc'),\n",
       " PosixPath('/mnt/RAID2/ACCWA/h18v04/dispatch_hybrid_21r_update/20230206/SM1km_h18v04_20230206_P21r.asc'),\n",
       " PosixPath('/mnt/RAID2/ACCWA/h18v04/dispatch_hybrid_21r_update/20230207/SM1km_h18v04_20230207_P21r.asc'),\n",
       " PosixPath('/mnt/RAID2/ACCWA/h18v04/dispatch_hybrid_21r_update/20230208/SM1km_h18v04_20230208_P21r.asc'),\n",
       " PosixPath('/mnt/RAID2/ACCWA/h18v04/dispatch_hybrid_21r_update/20230209/SM1km_h18v04_20230209_P21r.asc'),\n",
       " PosixPath('/mnt/RAID2/ACCWA/h18v04/dispatch_hybrid_21r_update/20230210/SM1km_h18v04_20230210_P21r.asc'),\n",
       " PosixPath('/mnt/RAID2/ACCWA/h18v04/dispatch_hybrid_21r_update/20230211/SM1km_h18v04_20230211_P21r.asc'),\n",
       " PosixPath('/mnt/RAID2/ACCWA/h18v04/dispatch_hybrid_21r_update/20230212/SM1km_h18v04_20230212_P21r.asc'),\n",
       " PosixPath('/mnt/RAID2/ACCWA/h18v04/dispatch_hybrid_21r_update/20230213/SM1km_h18v04_20230213_P21r.asc'),\n",
       " PosixPath('/mnt/RAID2/ACCWA/h18v04/dispatch_hybrid_21r_update/20230214/SM1km_h18v04_20230214_P21r.asc'),\n",
       " PosixPath('/mnt/RAID2/ACCWA/h18v04/dispatch_hybrid_21r_update/20230215/SM1km_h18v04_20230215_P21r.asc'),\n",
       " PosixPath('/mnt/RAID2/ACCWA/h18v04/dispatch_hybrid_21r_update/20230216/SM1km_h18v04_20230216_P21r.asc'),\n",
       " PosixPath('/mnt/RAID2/ACCWA/h18v04/dispatch_hybrid_21r_update/20230217/SM1km_h18v04_20230217_P21r.asc'),\n",
       " PosixPath('/mnt/RAID2/ACCWA/h18v04/dispatch_hybrid_21r_update/20230218/SM1km_h18v04_20230218_P21r.asc'),\n",
       " PosixPath('/mnt/RAID2/ACCWA/h18v04/dispatch_hybrid_21r_update/20230219/SM1km_h18v04_20230219_P21r.asc'),\n",
       " PosixPath('/mnt/RAID2/ACCWA/h18v04/dispatch_hybrid_21r_update/20230220/SM1km_h18v04_20230220_P21r.asc'),\n",
       " PosixPath('/mnt/RAID2/ACCWA/h18v04/dispatch_hybrid_21r_update/20230221/SM1km_h18v04_20230221_P21r.asc'),\n",
       " PosixPath('/mnt/RAID2/ACCWA/h18v04/dispatch_hybrid_21r_update/20230222/SM1km_h18v04_20230222_P21r.asc'),\n",
       " PosixPath('/mnt/RAID2/ACCWA/h18v04/dispatch_hybrid_21r_update/20230223/SM1km_h18v04_20230223_P21r.asc'),\n",
       " PosixPath('/mnt/RAID2/ACCWA/h18v04/dispatch_hybrid_21r_update/20230224/SM1km_h18v04_20230224_P21r.asc'),\n",
       " PosixPath('/mnt/RAID2/ACCWA/h18v04/dispatch_hybrid_21r_update/20230225/SM1km_h18v04_20230225_P21r.asc'),\n",
       " PosixPath('/mnt/RAID2/ACCWA/h18v04/dispatch_hybrid_21r_update/20230226/SM1km_h18v04_20230226_P21r.asc'),\n",
       " PosixPath('/mnt/RAID2/ACCWA/h18v04/dispatch_hybrid_21r_update/20230227/SM1km_h18v04_20230227_P21r.asc'),\n",
       " PosixPath('/mnt/RAID2/ACCWA/h18v04/dispatch_hybrid_21r_update/20230228/SM1km_h18v04_20230228_P21r.asc'),\n",
       " PosixPath('/mnt/RAID2/ACCWA/h18v04/dispatch_hybrid_21r_update/20230301/SM1km_h18v04_20230301_P21r.asc')]"
      ]
     },
     "execution_count": 19,
     "metadata": {},
     "output_type": "execute_result"
    }
   ],
   "source": [
    "soil_moisture_files"
   ]
  },
  {
   "cell_type": "code",
   "execution_count": null,
   "metadata": {},
   "outputs": [],
   "source": []
  }
 ],
 "metadata": {
  "kernelspec": {
   "display_name": "Python 3",
   "language": "python",
   "name": "python3"
  },
  "language_info": {
   "codemirror_mode": {
    "name": "ipython",
    "version": 3
   },
   "file_extension": ".py",
   "mimetype": "text/x-python",
   "name": "python",
   "nbconvert_exporter": "python",
   "pygments_lexer": "ipython3",
   "version": "3.7.12"
  }
 },
 "nbformat": 4,
 "nbformat_minor": 2
}
